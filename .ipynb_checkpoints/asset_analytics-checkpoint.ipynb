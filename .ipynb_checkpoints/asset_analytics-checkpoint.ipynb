{
 "cells": [
  {
   "cell_type": "markdown",
   "id": "8c8f2284",
   "metadata": {},
   "source": [
    "# <b> <center> GQG Project </center> </b>"
   ]
  },
  {
   "cell_type": "markdown",
   "id": "337c5c1c",
   "metadata": {},
   "source": [
    "## 1. Data Ingestion"
   ]
  },
  {
   "cell_type": "code",
   "execution_count": 1,
   "id": "d5ca293d",
   "metadata": {},
   "outputs": [],
   "source": [
    "# Importing necessary libraries\n",
    "import pandas as pd\n",
    "import os\n",
    "\n",
    "# Linking directory\n",
    "os.chdir('/Users/mukundshrivas/ama_project/GQG Project/Project Data')"
   ]
  },
  {
   "cell_type": "code",
   "execution_count": 2,
   "id": "726482cb",
   "metadata": {},
   "outputs": [],
   "source": [
    "# Importing the data sets\n",
    "cur_ref = pd.read_csv('asset_currency_reference.csv')\n",
    "cur_rate = pd.read_csv('currency_rates.csv')\n",
    "holdings = pd.read_csv('holdings_with_currency.csv')\n",
    "asset_val = pd.read_csv('prices_with_currency.csv')"
   ]
  },
  {
   "cell_type": "markdown",
   "id": "42aa00d1",
   "metadata": {},
   "source": [
    "## 2. Data Cleaning and Validation"
   ]
  },
  {
   "cell_type": "markdown",
   "id": "90cadeba",
   "metadata": {},
   "source": [
    "##### Making a function to quickly give all the key details about the data"
   ]
  },
  {
   "cell_type": "code",
   "execution_count": 3,
   "id": "1d9008eb",
   "metadata": {},
   "outputs": [],
   "source": [
    "def data_summary(df, name=\"DataFrame\"):\n",
    "    print(\"=\"*15, f\"DATA SUMMARY: {name}\", \"=\"*15)\n",
    "    print(\"\\n\")\n",
    "    \n",
    "    print(\"Data Sample\")\n",
    "    print(df.sample(5))\n",
    "    print(\"=\"*40)\n",
    "    \n",
    "    print(\"Shape of DataFrame:\", df.shape)\n",
    "    print(\"=\"*40)\n",
    "    \n",
    "    print(\"Column Names:\")\n",
    "    print(df.columns.tolist())\n",
    "    print(\"=\"*40)\n",
    "    \n",
    "    print(\"Data Types:\")\n",
    "    print(df.dtypes)\n",
    "    print(\"=\"*40)\n",
    "    \n",
    "    print(\"Summary Statistics:\")\n",
    "    print(df.describe(include='all'))\n",
    "    print(\"=\"*40)\n",
    "    \n",
    "    print(\"Info:\")\n",
    "    df.info()\n",
    "    print(\"=\"*40)\n",
    "    \n",
    "    print(\"Null Values:\")\n",
    "    print(df.isnull().sum())\n",
    "    print(\"=\"*40)\n",
    "    \n",
    "    print(\"Duplicacy:\")\n",
    "    print(df.duplicated().sum())\n"
   ]
  },
  {
   "cell_type": "markdown",
   "id": "c29e5e3d",
   "metadata": {},
   "source": [
    "##### Checking Data Health and Cleaning for every data set"
   ]
  },
  {
   "cell_type": "markdown",
   "id": "e224e040",
   "metadata": {},
   "source": [
    "#### <b><i> a) asset_currency_reference.csv </i></b>"
   ]
  },
  {
   "cell_type": "code",
   "execution_count": 4,
   "id": "b7b14503",
   "metadata": {},
   "outputs": [
    {
     "name": "stdout",
     "output_type": "stream",
     "text": [
      "=============== DATA SUMMARY: asset_currency_reference.csv ===============\n",
      "\n",
      "\n",
      "Data Sample\n",
      "       asset currency\n",
      "23  Asset_24      USD\n",
      "41  Asset_42      GBP\n",
      "1    Asset_2      USD\n",
      "11  Asset_12      USD\n",
      "0    Asset_1      EUR\n",
      "========================================\n",
      "Shape of DataFrame: (50, 2)\n",
      "========================================\n",
      "Column Names:\n",
      "['asset', 'currency']\n",
      "========================================\n",
      "Data Types:\n",
      "asset       object\n",
      "currency    object\n",
      "dtype: object\n",
      "========================================\n",
      "Summary Statistics:\n",
      "          asset currency\n",
      "count        50       50\n",
      "unique       50        8\n",
      "top     Asset_1      USD\n",
      "freq          1       24\n",
      "========================================\n",
      "Info:\n",
      "<class 'pandas.core.frame.DataFrame'>\n",
      "RangeIndex: 50 entries, 0 to 49\n",
      "Data columns (total 2 columns):\n",
      " #   Column    Non-Null Count  Dtype \n",
      "---  ------    --------------  ----- \n",
      " 0   asset     50 non-null     object\n",
      " 1   currency  50 non-null     object\n",
      "dtypes: object(2)\n",
      "memory usage: 932.0+ bytes\n",
      "========================================\n",
      "Null Values:\n",
      "asset       0\n",
      "currency    0\n",
      "dtype: int64\n",
      "========================================\n",
      "Duplicacy:\n",
      "0\n"
     ]
    }
   ],
   "source": [
    "data_summary(cur_ref, name = 'asset_currency_reference.csv') # Checking asset_currency_reference.csv's status"
   ]
  },
  {
   "cell_type": "markdown",
   "id": "fa110277",
   "metadata": {},
   "source": [
    "##### <i><b>Interpretation</b>: We can safely conclude that \"asset_currency_reference.csv\" data is healthy. </i>"
   ]
  },
  {
   "cell_type": "markdown",
   "id": "59d7491f",
   "metadata": {},
   "source": [
    "#### <b><i> b) currency_rates.csv </i></b>"
   ]
  },
  {
   "cell_type": "code",
   "execution_count": 5,
   "id": "e2ac9c27",
   "metadata": {},
   "outputs": [
    {
     "name": "stdout",
     "output_type": "stream",
     "text": [
      "=============== DATA SUMMARY: currency_rates.csv ===============\n",
      "\n",
      "\n",
      "Data Sample\n",
      "            date currency  rate_to_usd\n",
      "888   2024-06-04      USD     1.000000\n",
      "297   2024-02-21     EUR      1.070542\n",
      "711   2024-05-02      SEK     0.095561\n",
      "1004  2024-06-24      CAD     0.748072\n",
      "525   2024-04-01      AUD     0.675681\n",
      "========================================\n",
      "Shape of DataFrame: (1061, 3)\n",
      "========================================\n",
      "Column Names:\n",
      "['date', 'currency', 'rate_to_usd']\n",
      "========================================\n",
      "Data Types:\n",
      "date            object\n",
      "currency        object\n",
      "rate_to_usd    float64\n",
      "dtype: object\n",
      "========================================\n",
      "Summary Statistics:\n",
      "              date currency  rate_to_usd\n",
      "count         1061     1061  1051.000000\n",
      "unique         217       28          NaN\n",
      "top     2024-03-18      GBP          NaN\n",
      "freq             9      132          NaN\n",
      "mean           NaN      NaN     0.996272\n",
      "std            NaN      NaN     4.676753\n",
      "min            NaN      NaN    -1.000000\n",
      "25%            NaN      NaN     0.096683\n",
      "50%            NaN      NaN     1.000000\n",
      "75%            NaN      NaN     1.087839\n",
      "max            NaN      NaN   110.472644\n",
      "========================================\n",
      "Info:\n",
      "<class 'pandas.core.frame.DataFrame'>\n",
      "RangeIndex: 1061 entries, 0 to 1060\n",
      "Data columns (total 3 columns):\n",
      " #   Column       Non-Null Count  Dtype  \n",
      "---  ------       --------------  -----  \n",
      " 0   date         1061 non-null   object \n",
      " 1   currency     1061 non-null   object \n",
      " 2   rate_to_usd  1051 non-null   float64\n",
      "dtypes: float64(1), object(2)\n",
      "memory usage: 25.0+ KB\n",
      "========================================\n",
      "Null Values:\n",
      "date            0\n",
      "currency        0\n",
      "rate_to_usd    10\n",
      "dtype: int64\n",
      "========================================\n",
      "Duplicacy:\n",
      "21\n"
     ]
    }
   ],
   "source": [
    "data_summary(cur_rate, name = 'currency_rates.csv') # Checking currency_rates.csv's status"
   ]
  },
  {
   "cell_type": "markdown",
   "id": "13fd60b8",
   "metadata": {},
   "source": [
    "##### <i> <b>Interpretation </b>: \"currency_rates.csv\" is not healthy enough to operate with, given:\n",
    "* The present null values\n",
    "* Date is an object, instead of datetime for time series (Therefore, inconsistent formatting)\n",
    "* An extant negative USD rate of a currency\n",
    "* 28 distinct currencies instead of 8\n",
    "* Extant 21 duplicate rows\n",
    "\n",
    "</i>\n"
   ]
  },
  {
   "cell_type": "markdown",
   "id": "cdaf9f4b",
   "metadata": {},
   "source": [
    "##### Further exploring issues with the currency column"
   ]
  },
  {
   "cell_type": "code",
   "execution_count": 6,
   "id": "b6663313",
   "metadata": {},
   "outputs": [
    {
     "name": "stdout",
     "output_type": "stream",
     "text": [
      "['AUD', 'AUD ', 'CAD', 'CAD ', 'CHF', 'EUR', 'EUR ', 'GBP', 'JPY', 'JPY ', 'SEK', 'SEK ', 'USD', 'USD ', 'aud', 'aud ', 'cad', 'cad ', 'chf', 'chf ', 'eur', 'gbp ', 'jpy', 'jpy ', 'sek', 'sek ', 'usd', 'usd ']\n"
     ]
    }
   ],
   "source": [
    "print(sorted(cur_rate['currency'].unique())) # Checking for all currencies present in the 'currency' column"
   ]
  },
  {
   "cell_type": "markdown",
   "id": "d2f5920a",
   "metadata": {},
   "source": [
    "##### <i><b> Interpretation: </b> A lot of typos and trailing spaces </i>\n",
    "##### Cleaning prices_with_currency data"
   ]
  },
  {
   "cell_type": "code",
   "execution_count": 7,
   "id": "48ccbe1b",
   "metadata": {},
   "outputs": [
    {
     "data": {
      "text/plain": [
       "['AUD', 'CAD', 'CHF', 'EUR', 'GBP', 'JPY', 'SEK', 'USD']"
      ]
     },
     "execution_count": 7,
     "metadata": {},
     "output_type": "execute_result"
    }
   ],
   "source": [
    "# Stripping away trailing spaces, and making all the characters in upper case\n",
    "cur_rate['currency'] = cur_rate['currency'].str.strip().str.upper()\n",
    "sorted(cur_rate['currency'].unique())"
   ]
  },
  {
   "cell_type": "code",
   "execution_count": 8,
   "id": "4ee8bcc2",
   "metadata": {},
   "outputs": [
    {
     "name": "stdout",
     "output_type": "stream",
     "text": [
      "=============== DATA SUMMARY: currency_rates.csv (Cleaned) ===============\n",
      "\n",
      "\n",
      "Data Sample\n",
      "          date currency  rate_to_usd\n",
      "274 2024-02-19      AUD     0.664550\n",
      "29  2024-01-04      AUD     0.670125\n",
      "710 2024-05-07      SEK     0.093529\n",
      "185 2024-02-01      GBP     1.242500\n",
      "692 2024-05-02      USD     1.000000\n",
      "========================================\n",
      "Shape of DataFrame: (1025, 3)\n",
      "========================================\n",
      "Column Names:\n",
      "['date', 'currency', 'rate_to_usd']\n",
      "========================================\n",
      "Data Types:\n",
      "date           datetime64[ns]\n",
      "currency               object\n",
      "rate_to_usd           float64\n",
      "dtype: object\n",
      "========================================\n",
      "Summary Statistics:\n",
      "                                 date currency  rate_to_usd\n",
      "count                            1025     1025  1025.000000\n",
      "unique                            NaN        8          NaN\n",
      "top                               NaN      GBP          NaN\n",
      "freq                              NaN      129          NaN\n",
      "mean    2024-04-01 08:06:05.268292608      NaN     1.000913\n",
      "min               2024-01-01 00:00:00      NaN     0.006557\n",
      "25%               2024-02-14 00:00:00      NaN     0.658735\n",
      "50%               2024-04-01 00:00:00      NaN     1.000000\n",
      "75%               2024-05-16 00:00:00      NaN     1.087999\n",
      "max               2024-12-04 00:00:00      NaN   110.472644\n",
      "std                               NaN      NaN     4.726564\n",
      "========================================\n",
      "Info:\n",
      "<class 'pandas.core.frame.DataFrame'>\n",
      "RangeIndex: 1025 entries, 0 to 1024\n",
      "Data columns (total 3 columns):\n",
      " #   Column       Non-Null Count  Dtype         \n",
      "---  ------       --------------  -----         \n",
      " 0   date         1025 non-null   datetime64[ns]\n",
      " 1   currency     1025 non-null   object        \n",
      " 2   rate_to_usd  1025 non-null   float64       \n",
      "dtypes: datetime64[ns](1), float64(1), object(1)\n",
      "memory usage: 24.2+ KB\n",
      "========================================\n",
      "Null Values:\n",
      "date           0\n",
      "currency       0\n",
      "rate_to_usd    0\n",
      "dtype: int64\n",
      "========================================\n",
      "Duplicacy:\n",
      "0\n"
     ]
    }
   ],
   "source": [
    "# Dropping all rows with FX Rates below 0\n",
    "cur_rate = cur_rate[cur_rate['rate_to_usd'] > 0]\n",
    "\n",
    "# Forward-filling all NULL values\n",
    "cur_rate = cur_rate.sort_values(by=['currency', 'date']) # Grouping data by Currency and Date\n",
    "cur_rate['rate_to_usd'] = cur_rate.groupby('currency')['rate_to_usd'].ffill() # Forward-filling NULL values\n",
    "\n",
    "# Dropping Duplicated Rows\n",
    "cur_rate = cur_rate.drop_duplicates()\n",
    "\n",
    "# Converting 'object' type data in 'date' column into datetime format\n",
    "cur_rate['date'] = pd.to_datetime(cur_rate['date'], errors='coerce', format='mixed', dayfirst=True)\n",
    "cur_rate = cur_rate.sort_values(by='date').reset_index(drop=True)\n",
    "\n",
    "# Validating\n",
    "\n",
    "data_summary(cur_rate, name = 'currency_rates.csv (Cleaned)')\n"
   ]
  },
  {
   "cell_type": "markdown",
   "id": "4edf0723",
   "metadata": {},
   "source": [
    "#####  <i> <b>Interpretation:</b> We have successfully cleaned currency_rates.csv </i>"
   ]
  },
  {
   "cell_type": "markdown",
   "id": "80340c4a",
   "metadata": {},
   "source": [
    "#### <b><i> c) holdings_with_currency.csv </i></b>"
   ]
  },
  {
   "cell_type": "code",
   "execution_count": 9,
   "id": "81feceb8",
   "metadata": {},
   "outputs": [
    {
     "name": "stdout",
     "output_type": "stream",
     "text": [
      "=============== DATA SUMMARY: holdings_with_currency.csv ===============\n",
      "\n",
      "\n",
      "Data Sample\n",
      "             date     client     asset currency  quantity misc_col\n",
      "17841  2024-06-20   Client_7  asset_14      USD     765.0      NaN\n",
      "6470   2024-04-03   Client_3  Asset_18      USD     901.0      NaN\n",
      "24710  2024-04-16  Client_10  Asset_12      USD     705.0      NaN\n",
      "14654  2024-05-06   Client_6  Asset_34      USD     551.0      NaN\n",
      "4895   2024-06-12   Client_2  Asset_37      SEK     363.0      NaN\n",
      "========================================\n",
      "Shape of DataFrame: (26265, 6)\n",
      "========================================\n",
      "Column Names:\n",
      "['date', 'client', 'asset', 'currency', 'quantity', 'misc_col']\n",
      "========================================\n",
      "Data Types:\n",
      "date         object\n",
      "client       object\n",
      "asset        object\n",
      "currency     object\n",
      "quantity    float64\n",
      "misc_col     object\n",
      "dtype: object\n",
      "========================================\n",
      "Summary Statistics:\n",
      "              date    client     asset currency      quantity    misc_col\n",
      "count        26265     26265     26265    26265  26003.000000         332\n",
      "unique         519        50       250       32           NaN           1\n",
      "top     2024-01-12  Client_4  Asset_33      USD           NaN  irrelevant\n",
      "freq           204      2570       511    11960           NaN         332\n",
      "mean           NaN       NaN       NaN      NaN    493.435296         NaN\n",
      "std            NaN       NaN       NaN      NaN    293.755559         NaN\n",
      "min            NaN       NaN       NaN      NaN    -99.000000         NaN\n",
      "25%            NaN       NaN       NaN      NaN    239.000000         NaN\n",
      "50%            NaN       NaN       NaN      NaN    494.000000         NaN\n",
      "75%            NaN       NaN       NaN      NaN    749.000000         NaN\n",
      "max            NaN       NaN       NaN      NaN    999.000000         NaN\n",
      "========================================\n",
      "Info:\n",
      "<class 'pandas.core.frame.DataFrame'>\n",
      "RangeIndex: 26265 entries, 0 to 26264\n",
      "Data columns (total 6 columns):\n",
      " #   Column    Non-Null Count  Dtype  \n",
      "---  ------    --------------  -----  \n",
      " 0   date      26265 non-null  object \n",
      " 1   client    26265 non-null  object \n",
      " 2   asset     26265 non-null  object \n",
      " 3   currency  26265 non-null  object \n",
      " 4   quantity  26003 non-null  float64\n",
      " 5   misc_col  332 non-null    object \n",
      "dtypes: float64(1), object(5)\n",
      "memory usage: 1.2+ MB\n",
      "========================================\n",
      "Null Values:\n",
      "date            0\n",
      "client          0\n",
      "asset           0\n",
      "currency        0\n",
      "quantity      262\n",
      "misc_col    25933\n",
      "dtype: int64\n",
      "========================================\n",
      "Duplicacy:\n",
      "504\n"
     ]
    }
   ],
   "source": [
    "data_summary(holdings , name = 'holdings_with_currency.csv') # Checking holdings_with_currency.csv's status"
   ]
  },
  {
   "cell_type": "markdown",
   "id": "eface763",
   "metadata": {},
   "source": [
    "##### <i> <b>Interpretation </b>: \"holdings_with_currency.csv\" is not healthy enough to operate with, given:\n",
    "* The present null values in quantity and misc_col  \n",
    "* Date is an object, instead of datetime for time series (Therefore, inconsistent formatting) \n",
    "* An extant negative quantity \n",
    "* 32 distinct currencies instead of 8 \n",
    "* 250 distinct assets instead of 50 \n",
    "* Extant 504 duplicate rows \n",
    "</i>\n",
    "\n",
    "##### Cleaning"
   ]
  },
  {
   "cell_type": "code",
   "execution_count": 10,
   "id": "ce5bb2c0",
   "metadata": {},
   "outputs": [],
   "source": [
    "# Converting dates to datetime format\n",
    "holdings['date'] = pd.to_datetime(holdings['date'], errors='coerce', format='mixed', dayfirst=True)\n",
    "holdings = holdings.sort_values(by='date').reset_index(drop=True)\n",
    "\n",
    "# Removing the Negative values from quantity\n",
    "holdings = holdings[holdings['quantity'] > 0]\n",
    "\n",
    "# Dropping Duplicated Rows\n",
    "holdings = holdings.drop_duplicates()\n",
    "\n",
    "# 1) Pull out everything that isn’t 'irrelevant', then delete the column\n",
    "mask = holdings['misc_col'].fillna('').str.strip().str.lower() != 'irrelevant'\n",
    "holdings = holdings.loc[mask].drop(columns='misc_col')\n",
    "\n",
    "# 2) Now it’s safe to drop any remaining NaNs across the rest of the DataFrame\n",
    "holdings = holdings.dropna()"
   ]
  },
  {
   "cell_type": "code",
   "execution_count": 11,
   "id": "7ca7749f",
   "metadata": {},
   "outputs": [
    {
     "name": "stdout",
     "output_type": "stream",
     "text": [
      "['CLIENT_1', 'CLIENT_1 ', 'CLIENT_10', 'CLIENT_10 ', 'CLIENT_2', 'CLIENT_2 ', 'CLIENT_3', 'CLIENT_3 ', 'CLIENT_4', 'CLIENT_4 ', 'CLIENT_5', 'CLIENT_5 ', 'CLIENT_6', 'CLIENT_6 ', 'CLIENT_7', 'CLIENT_7 ', 'CLIENT_8', 'CLIENT_8 ', 'CLIENT_9', 'CLIENT_9 ', 'Client_1', 'Client_10', 'Client_2', 'Client_3', 'Client_4', 'Client_5', 'Client_6', 'Client_7', 'Client_8', 'Client_9', 'client_1', 'client_1 ', 'client_10', 'client_10 ', 'client_2', 'client_2 ', 'client_3', 'client_3 ', 'client_4', 'client_4 ', 'client_5', 'client_5 ', 'client_6', 'client_6 ', 'client_7', 'client_7 ', 'client_8', 'client_8 ', 'client_9', 'client_9 ']\n",
      "['AUD', 'AUD ', 'CAD', 'CAD ', 'CHF', 'CHF ', 'EUR', 'EUR ', 'GBP', 'GBP ', 'JPY', 'JPY ', 'SEK', 'SEK ', 'USD', 'USD ', 'aud', 'aud ', 'cad', 'cad ', 'chf', 'chf ', 'eur', 'eur ', 'gbp', 'gbp ', 'jpy', 'jpy ', 'sek', 'sek ', 'usd', 'usd ']\n",
      "['ASSET_1', 'ASSET_1 ', 'ASSET_10', 'ASSET_10 ', 'ASSET_11', 'ASSET_11 ', 'ASSET_12', 'ASSET_12 ', 'ASSET_13', 'ASSET_13 ', 'ASSET_14', 'ASSET_14 ', 'ASSET_15', 'ASSET_15 ', 'ASSET_16', 'ASSET_16 ', 'ASSET_17', 'ASSET_17 ', 'ASSET_18', 'ASSET_18 ', 'ASSET_19', 'ASSET_19 ', 'ASSET_2', 'ASSET_2 ', 'ASSET_20', 'ASSET_20 ', 'ASSET_21', 'ASSET_21 ', 'ASSET_22', 'ASSET_22 ', 'ASSET_23', 'ASSET_23 ', 'ASSET_24', 'ASSET_24 ', 'ASSET_25', 'ASSET_25 ', 'ASSET_26', 'ASSET_26 ', 'ASSET_27', 'ASSET_27 ', 'ASSET_28', 'ASSET_28 ', 'ASSET_29', 'ASSET_29 ', 'ASSET_3', 'ASSET_3 ', 'ASSET_30', 'ASSET_30 ', 'ASSET_31', 'ASSET_31 ', 'ASSET_32', 'ASSET_32 ', 'ASSET_33', 'ASSET_33 ', 'ASSET_34', 'ASSET_34 ', 'ASSET_35', 'ASSET_35 ', 'ASSET_36', 'ASSET_36 ', 'ASSET_37', 'ASSET_37 ', 'ASSET_38', 'ASSET_38 ', 'ASSET_39', 'ASSET_39 ', 'ASSET_4', 'ASSET_4 ', 'ASSET_40', 'ASSET_40 ', 'ASSET_41', 'ASSET_41 ', 'ASSET_42', 'ASSET_42 ', 'ASSET_43', 'ASSET_43 ', 'ASSET_44', 'ASSET_44 ', 'ASSET_45', 'ASSET_45 ', 'ASSET_46', 'ASSET_46 ', 'ASSET_47', 'ASSET_47 ', 'ASSET_48', 'ASSET_48 ', 'ASSET_49', 'ASSET_49 ', 'ASSET_5', 'ASSET_5 ', 'ASSET_50', 'ASSET_50 ', 'ASSET_6', 'ASSET_6 ', 'ASSET_7', 'ASSET_7 ', 'ASSET_8', 'ASSET_8 ', 'ASSET_9', 'ASSET_9 ', 'Asset_1', 'Asset_10', 'Asset_11', 'Asset_12', 'Asset_13', 'Asset_14', 'Asset_15', 'Asset_16', 'Asset_17', 'Asset_18', 'Asset_19', 'Asset_2', 'Asset_20', 'Asset_21', 'Asset_22', 'Asset_23', 'Asset_24', 'Asset_25', 'Asset_26', 'Asset_27', 'Asset_28', 'Asset_29', 'Asset_3', 'Asset_30', 'Asset_31', 'Asset_32', 'Asset_33', 'Asset_34', 'Asset_35', 'Asset_36', 'Asset_37', 'Asset_38', 'Asset_39', 'Asset_4', 'Asset_40', 'Asset_41', 'Asset_42', 'Asset_43', 'Asset_44', 'Asset_45', 'Asset_46', 'Asset_47', 'Asset_48', 'Asset_49', 'Asset_5', 'Asset_50', 'Asset_6', 'Asset_7', 'Asset_8', 'Asset_9', 'asset_1', 'asset_1 ', 'asset_10', 'asset_10 ', 'asset_11', 'asset_11 ', 'asset_12', 'asset_12 ', 'asset_13', 'asset_13 ', 'asset_14', 'asset_14 ', 'asset_15', 'asset_15 ', 'asset_16', 'asset_16 ', 'asset_17', 'asset_17 ', 'asset_18', 'asset_18 ', 'asset_19', 'asset_19 ', 'asset_2', 'asset_2 ', 'asset_20', 'asset_20 ', 'asset_21', 'asset_21 ', 'asset_22', 'asset_22 ', 'asset_23', 'asset_23 ', 'asset_24', 'asset_24 ', 'asset_25', 'asset_25 ', 'asset_26', 'asset_26 ', 'asset_27', 'asset_27 ', 'asset_28', 'asset_28 ', 'asset_29', 'asset_29 ', 'asset_3', 'asset_3 ', 'asset_30', 'asset_30 ', 'asset_31', 'asset_31 ', 'asset_32', 'asset_32 ', 'asset_33', 'asset_33 ', 'asset_34', 'asset_34 ', 'asset_35', 'asset_35 ', 'asset_36', 'asset_36 ', 'asset_37', 'asset_37 ', 'asset_38', 'asset_38 ', 'asset_39', 'asset_39 ', 'asset_4', 'asset_4 ', 'asset_40', 'asset_40 ', 'asset_41', 'asset_41 ', 'asset_42', 'asset_42 ', 'asset_43', 'asset_43 ', 'asset_44', 'asset_44 ', 'asset_45', 'asset_45 ', 'asset_46', 'asset_46 ', 'asset_47', 'asset_47 ', 'asset_48', 'asset_48 ', 'asset_49', 'asset_49 ', 'asset_5', 'asset_5 ', 'asset_50', 'asset_50 ', 'asset_6', 'asset_6 ', 'asset_7', 'asset_7 ', 'asset_8', 'asset_8 ', 'asset_9', 'asset_9 ']\n"
     ]
    }
   ],
   "source": [
    "# Checking 'client', 'currency', and 'asset' column\n",
    "print(sorted(holdings['client'].unique())) \n",
    "print(sorted(holdings['currency'].unique()))\n",
    "print(sorted(holdings['asset'].unique()))"
   ]
  },
  {
   "cell_type": "code",
   "execution_count": 12,
   "id": "93f12557",
   "metadata": {},
   "outputs": [
    {
     "name": "stdout",
     "output_type": "stream",
     "text": [
      "Number of Clients in the data:\n",
      "10\n",
      "====================\n",
      "Number of assets:\n",
      "50\n",
      "====================\n",
      "Number of currencies\n",
      "8\n"
     ]
    }
   ],
   "source": [
    "# Stripping away trailing spaces, and making all the characters in proper formatting from 'client' column\n",
    "holdings['client'] = holdings['client'].str.strip().str.title()\n",
    "holdings['asset'] = holdings['asset'].str.strip().str.title()\n",
    "holdings['currency'] = holdings['currency'].str.strip().str.upper()\n",
    "\n",
    "print(\"Number of Clients in the data:\")\n",
    "print(len(holdings['client'].unique()))\n",
    "print(\"==\"*10)\n",
    "print(\"Number of assets:\")\n",
    "print(len(holdings['asset'].unique()))\n",
    "print(\"==\"*10)\n",
    "print(\"Number of currencies\")\n",
    "print(len(holdings['currency'].unique()))"
   ]
  },
  {
   "cell_type": "code",
   "execution_count": 13,
   "id": "d52e28c6",
   "metadata": {},
   "outputs": [
    {
     "name": "stdout",
     "output_type": "stream",
     "text": [
      "=============== DATA SUMMARY: holdings_with_currency.csv (Cleaned) ===============\n",
      "\n",
      "\n",
      "Data Sample\n",
      "            date    client     asset currency  quantity\n",
      "16049 2024-04-19  Client_5  Asset_12      USD     789.0\n",
      "26029 2024-06-28  Client_5   Asset_1      EUR     413.0\n",
      "16019 2024-04-19  Client_2  Asset_12      USD     682.0\n",
      "508   2024-01-03  Client_5  Asset_45      USD     468.0\n",
      "18559 2024-05-08  Client_4  Asset_49      USD     393.0\n",
      "========================================\n",
      "Shape of DataFrame: (24659, 5)\n",
      "========================================\n",
      "Column Names:\n",
      "['date', 'client', 'asset', 'currency', 'quantity']\n",
      "========================================\n",
      "Data Types:\n",
      "date        datetime64[ns]\n",
      "client              object\n",
      "asset               object\n",
      "currency            object\n",
      "quantity           float64\n",
      "dtype: object\n",
      "========================================\n",
      "Summary Statistics:\n",
      "                                 date    client     asset currency  \\\n",
      "count                           24659     24659     24659    24659   \n",
      "unique                            NaN        10        50        8   \n",
      "top                               NaN  Client_4  Asset_33      USD   \n",
      "freq                              NaN      2552       531    11879   \n",
      "mean    2024-03-31 09:55:17.652783872       NaN       NaN      NaN   \n",
      "min               2024-01-01 00:00:00       NaN       NaN      NaN   \n",
      "25%               2024-02-14 00:00:00       NaN       NaN      NaN   \n",
      "50%               2024-04-01 00:00:00       NaN       NaN      NaN   \n",
      "75%               2024-05-16 00:00:00       NaN       NaN      NaN   \n",
      "max               2024-12-06 00:00:00       NaN       NaN      NaN   \n",
      "std                               NaN       NaN       NaN      NaN   \n",
      "\n",
      "            quantity  \n",
      "count   24659.000000  \n",
      "unique           NaN  \n",
      "top              NaN  \n",
      "freq             NaN  \n",
      "mean      503.892656  \n",
      "min        10.000000  \n",
      "25%       254.000000  \n",
      "50%       504.000000  \n",
      "75%       754.000000  \n",
      "max       999.000000  \n",
      "std       286.815986  \n",
      "========================================\n",
      "Info:\n",
      "<class 'pandas.core.frame.DataFrame'>\n",
      "Index: 24659 entries, 0 to 26264\n",
      "Data columns (total 5 columns):\n",
      " #   Column    Non-Null Count  Dtype         \n",
      "---  ------    --------------  -----         \n",
      " 0   date      24659 non-null  datetime64[ns]\n",
      " 1   client    24659 non-null  object        \n",
      " 2   asset     24659 non-null  object        \n",
      " 3   currency  24659 non-null  object        \n",
      " 4   quantity  24659 non-null  float64       \n",
      "dtypes: datetime64[ns](1), float64(1), object(3)\n",
      "memory usage: 1.1+ MB\n",
      "========================================\n",
      "Null Values:\n",
      "date        0\n",
      "client      0\n",
      "asset       0\n",
      "currency    0\n",
      "quantity    0\n",
      "dtype: int64\n",
      "========================================\n",
      "Duplicacy:\n",
      "0\n"
     ]
    }
   ],
   "source": [
    "data_summary(holdings, name = 'holdings_with_currency.csv (Cleaned)')"
   ]
  },
  {
   "cell_type": "markdown",
   "id": "7dd5a5ca",
   "metadata": {},
   "source": [
    "##### <i> We have succesfully cleaned the 'holdings_with_currency.csv' </i>"
   ]
  },
  {
   "cell_type": "markdown",
   "id": "b8733e57",
   "metadata": {},
   "source": [
    "#### <b><i>d) prices_with_currency.csv </i></b>"
   ]
  },
  {
   "cell_type": "code",
   "execution_count": 14,
   "id": "48be6b51",
   "metadata": {},
   "outputs": [
    {
     "name": "stdout",
     "output_type": "stream",
     "text": [
      "=============== DATA SUMMARY: prices_with_currency.csv ===============\n",
      "\n",
      "\n",
      "Data Sample\n",
      "            date     asset currency   price notes\n",
      "1851  2024-02-13  Asset_15      USD  251.19   NaN\n",
      "4554  2024-01-05  Asset_36      AUD   58.76   NaN\n",
      "6465  2024-05-13  Asset_50      AUD  129.46   NaN\n",
      "4896  2024-04-30  Asset_38      USD  223.51   NaN\n",
      "4094  2024-03-29  Asset_32      GBP  134.88   NaN\n",
      "========================================\n",
      "Shape of DataFrame: (6630, 5)\n",
      "========================================\n",
      "Column Names:\n",
      "['date', 'asset', 'currency', 'price', 'notes']\n",
      "========================================\n",
      "Data Types:\n",
      "date         object\n",
      "asset        object\n",
      "currency     object\n",
      "price       float64\n",
      "notes        object\n",
      "dtype: object\n",
      "========================================\n",
      "Summary Statistics:\n",
      "              date    asset currency          price    notes\n",
      "count         6630     6630     6630    6564.000000      161\n",
      "unique         455      244       31            NaN        2\n",
      "top     2024-04-09  Asset_5      USD            NaN  Updated\n",
      "freq            51      126     3000            NaN       81\n",
      "mean           NaN      NaN      NaN     645.381300      NaN\n",
      "std            NaN      NaN      NaN    7611.434043      NaN\n",
      "min            NaN      NaN      NaN    -292.990000      NaN\n",
      "25%            NaN      NaN      NaN      90.030000      NaN\n",
      "50%            NaN      NaN      NaN     142.710000      NaN\n",
      "75%            NaN      NaN      NaN     233.987500      NaN\n",
      "max            NaN      NaN      NaN  312930.000000      NaN\n",
      "========================================\n",
      "Info:\n",
      "<class 'pandas.core.frame.DataFrame'>\n",
      "RangeIndex: 6630 entries, 0 to 6629\n",
      "Data columns (total 5 columns):\n",
      " #   Column    Non-Null Count  Dtype  \n",
      "---  ------    --------------  -----  \n",
      " 0   date      6630 non-null   object \n",
      " 1   asset     6630 non-null   object \n",
      " 2   currency  6630 non-null   object \n",
      " 3   price     6564 non-null   float64\n",
      " 4   notes     161 non-null    object \n",
      "dtypes: float64(1), object(4)\n",
      "memory usage: 259.1+ KB\n",
      "========================================\n",
      "Null Values:\n",
      "date           0\n",
      "asset          0\n",
      "currency       0\n",
      "price         66\n",
      "notes       6469\n",
      "dtype: int64\n",
      "========================================\n",
      "Duplicacy:\n",
      "126\n"
     ]
    }
   ],
   "source": [
    "data_summary(asset_val, name = 'prices_with_currency.csv')"
   ]
  },
  {
   "cell_type": "markdown",
   "id": "575d8f2e",
   "metadata": {},
   "source": [
    "##### <i> <b>Interpretation </b>: \"prices_with_currency.csv\" is not healthy enough to operate with, given:\n",
    "* The present null values in price and notes\n",
    "* Date is an object, instead of datetime for time series (Therefore, inconsistent formatting) \n",
    "* An extant negative price\n",
    "* 31 distinct currencies instead of 8 \n",
    "* 244 distinct assets instead of 50 \n",
    "* Extant 126 duplicate rows \n",
    "</i>\n",
    "\n",
    "##### Cleaning"
   ]
  },
  {
   "cell_type": "code",
   "execution_count": 15,
   "id": "8b083cbb",
   "metadata": {},
   "outputs": [
    {
     "name": "stdout",
     "output_type": "stream",
     "text": [
      "Number of assets:\n",
      "50\n",
      "====================\n",
      "Number of currencies\n",
      "8\n"
     ]
    }
   ],
   "source": [
    "# Converting dates to datetime format\n",
    "asset_val['date'] = pd.to_datetime(asset_val['date'], errors='coerce', format='mixed', dayfirst=True)\n",
    "asset_val = asset_val.sort_values(by='date').reset_index(drop=True)\n",
    "\n",
    "# Removing the Negative values from price\n",
    "asset_val = asset_val[asset_val['price'] > 0]\n",
    "\n",
    "# Dropping Duplicated Rows\n",
    "asset_val = asset_val.drop_duplicates()\n",
    "\n",
    "# Stripping away trailing spaces, and making all the characters in proper formatting from 'client' column\n",
    "asset_val['asset'] = asset_val['asset'].str.strip().str.title()\n",
    "asset_val['currency'] = asset_val['currency'].str.strip().str.upper()\n",
    "\n",
    "print(\"Number of assets:\")\n",
    "print(len(asset_val['asset'].unique()))\n",
    "print(\"==\"*10)\n",
    "print(\"Number of currencies\")\n",
    "print(len(asset_val['currency'].unique()))"
   ]
  },
  {
   "cell_type": "code",
   "execution_count": 16,
   "id": "902a0070",
   "metadata": {},
   "outputs": [
    {
     "name": "stdout",
     "output_type": "stream",
     "text": [
      "=============== DATA SUMMARY: prices_with_currency.csv (Cleaned) ===============\n",
      "\n",
      "\n",
      "Data Sample\n",
      "           date     asset currency   price notes\n",
      "6275 2024-06-20   Asset_3      EUR  170.37   NaN\n",
      "3539 2024-04-05  Asset_21      EUR  137.41   NaN\n",
      "218  2024-01-05  Asset_17      CAD   97.75   NaN\n",
      "4506 2024-05-02  Asset_47      CAD   53.64   NaN\n",
      "4089 2024-04-22  Asset_17      CAD  127.64   NaN\n",
      "========================================\n",
      "Shape of DataFrame: (6382, 5)\n",
      "========================================\n",
      "Column Names:\n",
      "['date', 'asset', 'currency', 'price', 'notes']\n",
      "========================================\n",
      "Data Types:\n",
      "date        datetime64[ns]\n",
      "asset               object\n",
      "currency            object\n",
      "price              float64\n",
      "notes               object\n",
      "dtype: object\n",
      "========================================\n",
      "Summary Statistics:\n",
      "                                 date    asset currency          price  \\\n",
      "count                            6382     6382     6382    6382.000000   \n",
      "unique                            NaN       50        8            NaN   \n",
      "top                               NaN  Asset_1      USD            NaN   \n",
      "freq                              NaN      130     3062            NaN   \n",
      "mean    2024-03-31 12:28:25.797555712      NaN      NaN     659.562684   \n",
      "min               2024-01-01 00:00:00      NaN      NaN      25.770000   \n",
      "25%               2024-02-14 00:00:00      NaN      NaN      91.602500   \n",
      "50%               2024-04-01 00:00:00      NaN      NaN     143.750000   \n",
      "75%               2024-05-16 00:00:00      NaN      NaN     234.655000   \n",
      "max               2024-12-06 00:00:00      NaN      NaN  312930.000000   \n",
      "std                               NaN      NaN      NaN    7718.260366   \n",
      "\n",
      "          notes  \n",
      "count       151  \n",
      "unique        2  \n",
      "top     Updated  \n",
      "freq         78  \n",
      "mean        NaN  \n",
      "min         NaN  \n",
      "25%         NaN  \n",
      "50%         NaN  \n",
      "75%         NaN  \n",
      "max         NaN  \n",
      "std         NaN  \n",
      "========================================\n",
      "Info:\n",
      "<class 'pandas.core.frame.DataFrame'>\n",
      "Index: 6382 entries, 0 to 6629\n",
      "Data columns (total 5 columns):\n",
      " #   Column    Non-Null Count  Dtype         \n",
      "---  ------    --------------  -----         \n",
      " 0   date      6382 non-null   datetime64[ns]\n",
      " 1   asset     6382 non-null   object        \n",
      " 2   currency  6382 non-null   object        \n",
      " 3   price     6382 non-null   float64       \n",
      " 4   notes     151 non-null    object        \n",
      "dtypes: datetime64[ns](1), float64(1), object(3)\n",
      "memory usage: 299.2+ KB\n",
      "========================================\n",
      "Null Values:\n",
      "date           0\n",
      "asset          0\n",
      "currency       0\n",
      "price          0\n",
      "notes       6231\n",
      "dtype: int64\n",
      "========================================\n",
      "Duplicacy:\n",
      "0\n"
     ]
    }
   ],
   "source": [
    "data_summary(asset_val, name = 'prices_with_currency.csv (Cleaned)')"
   ]
  },
  {
   "cell_type": "markdown",
   "id": "db6746f2",
   "metadata": {},
   "source": [
    "##### Cross-checking asset's currencies with the 'asset_currency_reference.csv' file"
   ]
  },
  {
   "cell_type": "code",
   "execution_count": 17,
   "id": "b007034b",
   "metadata": {},
   "outputs": [
    {
     "name": "stdout",
     "output_type": "stream",
     "text": [
      "Mismatched rows: 0\n"
     ]
    },
    {
     "data": {
      "application/vnd.microsoft.datawrangler.viewer.v0+json": {
       "columns": [
        {
         "name": "index",
         "rawType": "int64",
         "type": "integer"
        },
        {
         "name": "date",
         "rawType": "datetime64[ns]",
         "type": "datetime"
        },
        {
         "name": "asset",
         "rawType": "object",
         "type": "string"
        },
        {
         "name": "currency",
         "rawType": "object",
         "type": "string"
        },
        {
         "name": "currency_ref",
         "rawType": "object",
         "type": "string"
        }
       ],
       "ref": "c5398a14-0d4c-45f9-9b0e-0773097c147e",
       "rows": [],
       "shape": {
        "columns": 4,
        "rows": 0
       }
      },
      "text/html": [
       "<div>\n",
       "<style scoped>\n",
       "    .dataframe tbody tr th:only-of-type {\n",
       "        vertical-align: middle;\n",
       "    }\n",
       "\n",
       "    .dataframe tbody tr th {\n",
       "        vertical-align: top;\n",
       "    }\n",
       "\n",
       "    .dataframe thead th {\n",
       "        text-align: right;\n",
       "    }\n",
       "</style>\n",
       "<table border=\"1\" class=\"dataframe\">\n",
       "  <thead>\n",
       "    <tr style=\"text-align: right;\">\n",
       "      <th></th>\n",
       "      <th>date</th>\n",
       "      <th>asset</th>\n",
       "      <th>currency</th>\n",
       "      <th>currency_ref</th>\n",
       "    </tr>\n",
       "  </thead>\n",
       "  <tbody>\n",
       "  </tbody>\n",
       "</table>\n",
       "</div>"
      ],
      "text/plain": [
       "Empty DataFrame\n",
       "Columns: [date, asset, currency, currency_ref]\n",
       "Index: []"
      ]
     },
     "metadata": {},
     "output_type": "display_data"
    }
   ],
   "source": [
    "# Step 1: Merge asset_val with cur_ref on 'asset'\n",
    "merged = asset_val.merge(cur_ref, on='asset', how='left', suffixes=('', '_ref'))\n",
    "\n",
    "# Step 2: Create a mismatch flag\n",
    "merged['currency_mismatch'] = merged['currency'] != merged['currency_ref']\n",
    "\n",
    "# Step 3: Filter mismatches\n",
    "mismatches = merged[merged['currency_mismatch']]\n",
    "\n",
    "# Step 4: View results\n",
    "print(f\"Mismatched rows: {len(mismatches)}\")\n",
    "display(mismatches[['date', 'asset', 'currency', 'currency_ref']])\n"
   ]
  },
  {
   "cell_type": "markdown",
   "id": "44d8613a",
   "metadata": {},
   "source": [
    "##### We have succesfully cleaned 'prices_with_currency.csv'"
   ]
  },
  {
   "cell_type": "markdown",
   "id": "57342358",
   "metadata": {},
   "source": [
    "## 3. Merging Dataset"
   ]
  },
  {
   "cell_type": "code",
   "execution_count": null,
   "id": "bc15bb83",
   "metadata": {},
   "outputs": [],
   "source": []
  }
 ],
 "metadata": {
  "kernelspec": {
   "display_name": ".venv",
   "language": "python",
   "name": "python3"
  },
  "language_info": {
   "codemirror_mode": {
    "name": "ipython",
    "version": 3
   },
   "file_extension": ".py",
   "mimetype": "text/x-python",
   "name": "python",
   "nbconvert_exporter": "python",
   "pygments_lexer": "ipython3",
   "version": "3.13.2"
  }
 },
 "nbformat": 4,
 "nbformat_minor": 5
}
